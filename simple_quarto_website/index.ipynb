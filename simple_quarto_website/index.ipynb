{
  "cells": [
    {
      "cell_type": "raw",
      "metadata": {},
      "source": [
        "---\n",
        "title: \"simple_quarto_website\"\n",
        "---"
      ],
      "id": "d7a7d3de"
    },
    {
      "cell_type": "markdown",
      "metadata": {},
      "source": [
        "```{css, echo=FALSE}\n",
        ".text-justify {\n",
        "    text-align: justify;\n",
        "}\n",
        "```\n",
        "\n",
        "\n",
        "Characterization of human fetal spinal cord stem cell line[@guo2010characterization]\n",
        "\n",
        "Application of microphysiological systems to enhance safety assessment in drug discovery[@ewart2018application]\n",
        "\n",
        "To learn more about Quarto websites visit <https://quarto.org/docs/websites>.\n",
        "\n",
        "<!--CITATIONS-->\n",
        "<h3>Face Recognition of Remote Teaching Video Image Based on Improved Frame Difference Method [@wang2023face]</h3>\n",
        "<!--FORMATED_TEXT_WITH_TWO_COLUMNS-->\n",
        "\n",
        "::: {.columns}\n",
        "<!--COLUMN_1_LEFT_COLUMN-->\n",
        "::: {.column width=\"40%\"}\n",
        "::: {.text-justify}\n",
        "Face recognition technology is a vital biometric recognition technology widely employed in computer vision. The human face, being a unique and complex visual biological feature, encapsulates a wealth of information. While facial expressions, age, and hairstyles may vary significantly, the human face exhibits a certain level of invariance and individuality, enabling it to serve as a means of identification. However, designing a fully automated face recognition system that can reliably perform under all circumstances remains a significant challenge. The use of biometric identity authentication, leveraging the intrinsic attributes of humans such as uniqueness, stability, and strong security, has become a popular method of verifying one's identity. In recent years, considerable research has been conducted on face recognition technology based on human facial features. This technology offers the advantage of collecting facial data at a distance without the subject's cooperation, thus bypassing the need for active involvement.\n",
        ":::\n",
        ":::\n",
        "\n",
        "<!--COLUMN_2_RIGHT_COLUMN-->\n",
        "::: {.column width=\"50%\"}\n",
        "::: {.text-justify}\n",
        "Face recognition research is a multidisciplinary field that encompasses pattern recognition, image processing, computer vision, physiology, psychology, and cognitive science. It is closely linked to other biometric identification methods and the interaction between humans and computers.\n",
        "\n",
        "Distance e-learning is a prominent research focus in the education field [4, 5]. Within remote network teaching, the integration of face recognition technology can assist teachers in monitoring attendance and class dynamics, providing comprehensive insights into the learning process of students. Additionally, through data analysis provided by the face recognition system, teachers can promptly adapt and optimize their teaching progress. Therefore, the application of face recognition technology in remote network teaching holds significant implications for relevant colleges and universities. It is essential for professionals in the field to further enhance research on face recognition technology, grasp its functionalities and technical aspects, and analyze its compatibility with distance teaching requirements to enable effective implementation in educational institutions.\n",
        ":::\n",
        ":::\n",
        ":::\n",
        "\n",
        "<!--Blockquote-->\n",
        "> Ingredients you need \n",
        "\n",
        "<!--Bulleted List-->\n",
        "* flour\n",
        "* egg\n",
        "* baking soda\n",
        "* butter\n",
        "* sugar\n",
        "* salt\n",
        "* chocolate pieces\n",
        "* milk\n",
        "* nuts\n",
        "* vailla extract"
      ],
      "id": "f48db88a"
    }
  ],
  "metadata": {
    "kernelspec": {
      "name": "python3",
      "language": "python",
      "display_name": "Python 3 (ipykernel)"
    }
  },
  "nbformat": 4,
  "nbformat_minor": 5
}